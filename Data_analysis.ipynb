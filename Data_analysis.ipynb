{
 "cells": [
  {
   "cell_type": "markdown",
   "id": "a4d4b866",
   "metadata": {},
   "source": [
    "### Quick Analysis\n",
    "In this notebook, we explore a synthetic dataset that links daily habits to sleep duration.\n",
    "We take a quick look at the data, clean outliers, visualize feature distributions, and check correlations - all to prepare the dataset for a prediction model."
   ]
  },
  {
   "cell_type": "code",
   "execution_count": 68,
   "id": "806d8dc4",
   "metadata": {},
   "outputs": [
    {
     "data": {
      "text/html": [
       "<div>\n",
       "<style scoped>\n",
       "    .dataframe tbody tr th:only-of-type {\n",
       "        vertical-align: middle;\n",
       "    }\n",
       "\n",
       "    .dataframe tbody tr th {\n",
       "        vertical-align: top;\n",
       "    }\n",
       "\n",
       "    .dataframe thead th {\n",
       "        text-align: right;\n",
       "    }\n",
       "</style>\n",
       "<table border=\"1\" class=\"dataframe\">\n",
       "  <thead>\n",
       "    <tr style=\"text-align: right;\">\n",
       "      <th></th>\n",
       "      <th>WorkoutTime</th>\n",
       "      <th>ReadingTime</th>\n",
       "      <th>PhoneTime</th>\n",
       "      <th>WorkHours</th>\n",
       "      <th>CaffeineIntake</th>\n",
       "      <th>RelaxationTime</th>\n",
       "      <th>SleepTime</th>\n",
       "    </tr>\n",
       "  </thead>\n",
       "  <tbody>\n",
       "    <tr>\n",
       "      <th>0</th>\n",
       "      <td>1.12</td>\n",
       "      <td>0.52</td>\n",
       "      <td>3.29</td>\n",
       "      <td>7.89</td>\n",
       "      <td>216.08</td>\n",
       "      <td>0.75</td>\n",
       "      <td>3.45</td>\n",
       "    </tr>\n",
       "    <tr>\n",
       "      <th>1</th>\n",
       "      <td>2.85</td>\n",
       "      <td>0.49</td>\n",
       "      <td>4.22</td>\n",
       "      <td>5.03</td>\n",
       "      <td>206.18</td>\n",
       "      <td>0.67</td>\n",
       "      <td>4.88</td>\n",
       "    </tr>\n",
       "    <tr>\n",
       "      <th>2</th>\n",
       "      <td>2.20</td>\n",
       "      <td>1.81</td>\n",
       "      <td>4.04</td>\n",
       "      <td>9.23</td>\n",
       "      <td>28.73</td>\n",
       "      <td>0.35</td>\n",
       "      <td>3.61</td>\n",
       "    </tr>\n",
       "    <tr>\n",
       "      <th>3</th>\n",
       "      <td>1.80</td>\n",
       "      <td>0.50</td>\n",
       "      <td>1.62</td>\n",
       "      <td>7.68</td>\n",
       "      <td>276.77</td>\n",
       "      <td>1.21</td>\n",
       "      <td>4.94</td>\n",
       "    </tr>\n",
       "    <tr>\n",
       "      <th>4</th>\n",
       "      <td>0.47</td>\n",
       "      <td>0.54</td>\n",
       "      <td>1.60</td>\n",
       "      <td>4.94</td>\n",
       "      <td>170.54</td>\n",
       "      <td>0.95</td>\n",
       "      <td>5.50</td>\n",
       "    </tr>\n",
       "  </tbody>\n",
       "</table>\n",
       "</div>"
      ],
      "text/plain": [
       "   WorkoutTime  ReadingTime  PhoneTime  WorkHours  CaffeineIntake  \\\n",
       "0         1.12         0.52       3.29       7.89          216.08   \n",
       "1         2.85         0.49       4.22       5.03          206.18   \n",
       "2         2.20         1.81       4.04       9.23           28.73   \n",
       "3         1.80         0.50       1.62       7.68          276.77   \n",
       "4         0.47         0.54       1.60       4.94          170.54   \n",
       "\n",
       "   RelaxationTime  SleepTime  \n",
       "0            0.75       3.45  \n",
       "1            0.67       4.88  \n",
       "2            0.35       3.61  \n",
       "3            1.21       4.94  \n",
       "4            0.95       5.50  "
      ]
     },
     "execution_count": 68,
     "metadata": {},
     "output_type": "execute_result"
    }
   ],
   "source": [
    "import pandas as pd\n",
    "import matplotlib.pyplot as plt\n",
    "import seaborn as sns\n",
    "import plotly.figure_factory as ff\n",
    "\n",
    "# Load the dataset about sleep time \n",
    "df = pd.read_csv(\"sleeptime_prediction_dataset.csv\")\n",
    "df.head()\n"
   ]
  },
  {
   "cell_type": "code",
   "execution_count": 69,
   "id": "a03b79f0",
   "metadata": {},
   "outputs": [
    {
     "name": "stdout",
     "output_type": "stream",
     "text": [
      "Dataset shape (rows, columns):\n"
     ]
    },
    {
     "data": {
      "text/plain": [
       "(2000, 7)"
      ]
     },
     "execution_count": 69,
     "metadata": {},
     "output_type": "execute_result"
    }
   ],
   "source": [
    "# Let's check the shape, missing values and data types of the dataset \n",
    "print(\"Dataset shape (rows, columns):\")\n",
    "df.shape"
   ]
  },
  {
   "cell_type": "code",
   "execution_count": 70,
   "id": "e0a5b0c3",
   "metadata": {},
   "outputs": [
    {
     "name": "stdout",
     "output_type": "stream",
     "text": [
      "Missing values per column:\n"
     ]
    },
    {
     "data": {
      "text/plain": [
       "WorkoutTime       0\n",
       "ReadingTime       0\n",
       "PhoneTime         0\n",
       "WorkHours         0\n",
       "CaffeineIntake    0\n",
       "RelaxationTime    0\n",
       "SleepTime         0\n",
       "dtype: int64"
      ]
     },
     "execution_count": 70,
     "metadata": {},
     "output_type": "execute_result"
    }
   ],
   "source": [
    "print(\"Missing values per column:\")\n",
    "df.isnull().sum()\n"
   ]
  },
  {
   "cell_type": "code",
   "execution_count": 71,
   "id": "8913012e",
   "metadata": {},
   "outputs": [
    {
     "name": "stdout",
     "output_type": "stream",
     "text": [
      "Data types of each column:\n"
     ]
    },
    {
     "data": {
      "text/plain": [
       "WorkoutTime       float64\n",
       "ReadingTime       float64\n",
       "PhoneTime         float64\n",
       "WorkHours         float64\n",
       "CaffeineIntake    float64\n",
       "RelaxationTime    float64\n",
       "SleepTime         float64\n",
       "dtype: object"
      ]
     },
     "execution_count": 71,
     "metadata": {},
     "output_type": "execute_result"
    }
   ],
   "source": [
    "print(\"Data types of each column:\")\n",
    "df.dtypes\n"
   ]
  },
  {
   "cell_type": "code",
   "execution_count": 72,
   "id": "696e64c5",
   "metadata": {},
   "outputs": [
    {
     "data": {
      "image/png": "[encoded data removed]",
      "text/plain": [
       "<Figure size 576x288 with 1 Axes>"
      ]
     },
     "metadata": {
      "needs_background": "light"
     },
     "output_type": "display_data"
    }
   ],
   "source": [
    "# Plot histogram of the target variable\n",
    "plt.figure(figsize=(8, 4))\n",
    "sns.histplot(df[\"SleepTime\"], bins=60, kde=True)\n",
    "plt.title(\"Distribution of Sleep Time\")\n",
    "plt.xlabel(\"Sleep Time (hours)\")\n",
    "plt.ylabel(\"Frequency\")\n",
    "plt.show()\n"
   ]
  },
  {
   "cell_type": "markdown",
   "id": "5fba7b48",
   "metadata": {},
   "source": [
    "Histogram summaries:\n",
    "- The histogram shows that most sleep durations fall between 3 and 6 hours, with a peak around 4.5–5 hours.\n",
    "- Distribution is asymmetrical (positively skewed): long tail to the right\n",
    "- Outliers: some values ​​reach 20 hours, which is probably unrealistic"
   ]
  },
  {
   "cell_type": "code",
   "execution_count": 73,
   "id": "aa07e17c",
   "metadata": {},
   "outputs": [
    {
     "data": {
      "text/plain": [
       "count    2000.000000\n",
       "mean        4.884375\n",
       "std         2.028892\n",
       "min         0.150000\n",
       "25%         3.840000\n",
       "50%         4.600000\n",
       "75%         5.470000\n",
       "max        19.810000\n",
       "Name: SleepTime, dtype: float64"
      ]
     },
     "execution_count": 73,
     "metadata": {},
     "output_type": "execute_result"
    }
   ],
   "source": [
    "# Check the outliers\n",
    "df[\"SleepTime\"].describe()"
   ]
  },
  {
   "cell_type": "code",
   "execution_count": 74,
   "id": "ec3d046a",
   "metadata": {},
   "outputs": [
    {
     "data": {
      "text/html": [
       "<div>\n",
       "<style scoped>\n",
       "    .dataframe tbody tr th:only-of-type {\n",
       "        vertical-align: middle;\n",
       "    }\n",
       "\n",
       "    .dataframe tbody tr th {\n",
       "        vertical-align: top;\n",
       "    }\n",
       "\n",
       "    .dataframe thead th {\n",
       "        text-align: right;\n",
       "    }\n",
       "</style>\n",
       "<table border=\"1\" class=\"dataframe\">\n",
       "  <thead>\n",
       "    <tr style=\"text-align: right;\">\n",
       "      <th></th>\n",
       "      <th>WorkoutTime</th>\n",
       "      <th>ReadingTime</th>\n",
       "      <th>PhoneTime</th>\n",
       "      <th>WorkHours</th>\n",
       "      <th>CaffeineIntake</th>\n",
       "      <th>RelaxationTime</th>\n",
       "      <th>SleepTime</th>\n",
       "    </tr>\n",
       "  </thead>\n",
       "  <tbody>\n",
       "    <tr>\n",
       "      <th>10</th>\n",
       "      <td>0.06</td>\n",
       "      <td>0.07</td>\n",
       "      <td>1.14</td>\n",
       "      <td>8.82</td>\n",
       "      <td>251.82</td>\n",
       "      <td>1.77</td>\n",
       "      <td>15.94</td>\n",
       "    </tr>\n",
       "    <tr>\n",
       "      <th>159</th>\n",
       "      <td>2.18</td>\n",
       "      <td>1.50</td>\n",
       "      <td>3.26</td>\n",
       "      <td>9.02</td>\n",
       "      <td>234.99</td>\n",
       "      <td>1.67</td>\n",
       "      <td>17.77</td>\n",
       "    </tr>\n",
       "    <tr>\n",
       "      <th>212</th>\n",
       "      <td>1.96</td>\n",
       "      <td>0.04</td>\n",
       "      <td>3.18</td>\n",
       "      <td>6.41</td>\n",
       "      <td>4.75</td>\n",
       "      <td>0.24</td>\n",
       "      <td>17.87</td>\n",
       "    </tr>\n",
       "    <tr>\n",
       "      <th>213</th>\n",
       "      <td>0.67</td>\n",
       "      <td>1.93</td>\n",
       "      <td>1.93</td>\n",
       "      <td>6.10</td>\n",
       "      <td>167.34</td>\n",
       "      <td>1.14</td>\n",
       "      <td>15.57</td>\n",
       "    </tr>\n",
       "    <tr>\n",
       "      <th>251</th>\n",
       "      <td>1.16</td>\n",
       "      <td>1.82</td>\n",
       "      <td>1.25</td>\n",
       "      <td>5.04</td>\n",
       "      <td>293.55</td>\n",
       "      <td>0.51</td>\n",
       "      <td>15.69</td>\n",
       "    </tr>\n",
       "  </tbody>\n",
       "</table>\n",
       "</div>"
      ],
      "text/plain": [
       "     WorkoutTime  ReadingTime  PhoneTime  WorkHours  CaffeineIntake  \\\n",
       "10          0.06         0.07       1.14       8.82          251.82   \n",
       "159         2.18         1.50       3.26       9.02          234.99   \n",
       "212         1.96         0.04       3.18       6.41            4.75   \n",
       "213         0.67         1.93       1.93       6.10          167.34   \n",
       "251         1.16         1.82       1.25       5.04          293.55   \n",
       "\n",
       "     RelaxationTime  SleepTime  \n",
       "10             1.77      15.94  \n",
       "159            1.67      17.77  \n",
       "212            0.24      17.87  \n",
       "213            1.14      15.57  \n",
       "251            0.51      15.69  "
      ]
     },
     "execution_count": 74,
     "metadata": {},
     "output_type": "execute_result"
    }
   ],
   "source": [
    "# Show rows with extreme sleep durations\n",
    "df[df[\"SleepTime\"] > 12].head()"
   ]
  },
  {
   "cell_type": "code",
   "execution_count": 75,
   "id": "aa035b7e",
   "metadata": {},
   "outputs": [
    {
     "data": {
      "text/plain": [
       "count    1955.000000\n",
       "mean        4.669872\n",
       "std         1.183617\n",
       "min         1.100000\n",
       "25%         3.830000\n",
       "50%         4.580000\n",
       "75%         5.410000\n",
       "max        11.920000\n",
       "Name: SleepTime, dtype: float64"
      ]
     },
     "execution_count": 75,
     "metadata": {},
     "output_type": "execute_result"
    }
   ],
   "source": [
    "# Filter out extreme values\n",
    "df_filtered = df[(df[\"SleepTime\"] >= 1.0) & (df[\"SleepTime\"] <= 12.0)]\n",
    "df_filtered[\"SleepTime\"].describe()"
   ]
  },
  {
   "cell_type": "code",
   "execution_count": 76,
   "id": "a19e4115",
   "metadata": {},
   "outputs": [
    {
     "data": {
      "image/png": "[encoded data removed]",
      "text/plain": [
       "<Figure size 720x504 with 6 Axes>"
      ]
     },
     "metadata": {
      "needs_background": "light"
     },
     "output_type": "display_data"
    }
   ],
   "source": [
    "# Drop target column\n",
    "feature_cols = df_filtered.drop(columns=[\"SleepTime\"]).columns\n",
    "\n",
    "# Plot histograms for each feature\n",
    "import matplotlib.pyplot as plt\n",
    "import seaborn as sns\n",
    "\n",
    "plt.figure(figsize=(10, 7))\n",
    "for i, col in enumerate(feature_cols):\n",
    "    plt.subplot(3, 2, i + 1)\n",
    "    sns.histplot(df_filtered[col], bins=30, kde=True)\n",
    "    plt.title(f\"Distribution of {col}\")\n",
    "    plt.xlabel(col)\n",
    "    plt.tight_layout()\n",
    "plt.show()\n"
   ]
  },
  {
   "cell_type": "markdown",
   "id": "5a9069a6",
   "metadata": {},
   "source": [
    "Most input features are evenly distributed, reflecting the synthetic nature of the dataset. No major skewness or heavy tails are observed, which suggests no transformation is needed for modeling."
   ]
  },
  {
   "cell_type": "code",
   "execution_count": 78,
   "id": "698635c7",
   "metadata": {},
   "outputs": [
    {
     "data": {
      "image/png": "[encoded data removed]",
      "text/plain": [
       "<Figure size 504x360 with 2 Axes>"
      ]
     },
     "metadata": {
      "needs_background": "light"
     },
     "output_type": "display_data"
    }
   ],
   "source": [
    "# Compute correlation matrix and plot heatmap\n",
    "numeric_df = df_filtered.select_dtypes(include=[\"float64\", \"int64\"])\n",
    "corr = numeric_df.corr()\n",
    "\n",
    "plt.figure(figsize=(7, 5))\n",
    "sns.heatmap(corr, annot=True, cmap=\"coolwarm\", fmt=\".2f\", center=0)\n",
    "plt.title(\"Correlation Matrix (SleepTime vs Features)\")\n",
    "plt.tight_layout()\n",
    "plt.show()"
   ]
  },
  {
   "cell_type": "code",
   "execution_count": null,
   "id": "ce875e78",
   "metadata": {},
   "outputs": [
    {
     "data": {
      "application/vnd.plotly.v1+json": {
       "config": {
        "plotlyServerURL": "https://plot.ly"
       },
       "data": [
        {
         "colorscale": [
          [
           0,
           "rgb(103,0,31)"
          ],
          [
           0.1,
           "rgb(178,24,43)"
          ],
          [
           0.2,
           "rgb(214,96,77)"
          ],
          [
           0.3,
           "rgb(244,165,130)"
          ],
          [
           0.4,
           "rgb(253,219,199)"
          ],
          [
           0.5,
           "rgb(247,247,247)"
          ],
          [
           0.6,
           "rgb(209,229,240)"
          ],
          [
           0.7,
           "rgb(146,197,222)"
          ],
          [
           0.8,
           "rgb(67,147,195)"
          ],
          [
           0.9,
           "rgb(33,102,172)"
          ],
          [
           1,
           "rgb(5,48,97)"
          ]
         ],
         "reversescale": false,
         "showscale": true,
         "type": "heatmap",
         "x": [
          "WorkoutTime",
          "ReadingTime",
          "PhoneTime",
          "WorkHours",
          "CaffeineIntake",
          "RelaxationTime",
          "SleepTime"
         ],
         "y": [
          "WorkoutTime",
          "ReadingTime",
          "PhoneTime",
          "WorkHours",
          "CaffeineIntake",
          "RelaxationTime",
          "SleepTime"
         ],
         "z": [
          [
           1,
           0,
           0.03,
           0.04,
           -0.05,
           0.01,
           0.31
          ],
          [
           0,
           1,
           0.02,
           -0.02,
           0,
           0.03,
           0.13
          ],
          [
           0.03,
           0.02,
           1,
           0.02,
           0.01,
           -0.04,
           -0.56
          ],
          [
           0.04,
           -0.02,
           0.02,
           1,
           -0.01,
           0.04,
           -0.53
          ],
          [
           -0.05,
           0,
           0.01,
           -0.01,
           1,
           -0.04,
           -0.18
          ],
          [
           0.01,
           0.03,
           -0.04,
           0.04,
           -0.04,
           1,
           0.19
          ],
          [
           0.31,
           0.13,
           -0.56,
           -0.53,
           -0.18,
           0.19,
           1
          ]
         ],
         "zmid": 0
        }
       ],
       "layout": {
        "annotations": [
         {
          "font": {
           "color": "#FFFFFF"
          },
          "showarrow": false,
          "text": "1.0",
          "x": "WorkoutTime",
          "xref": "x",
          "y": "WorkoutTime",
          "yref": "y"
         },
         {
          "font": {
           "color": "#FFFFFF"
          },
          "showarrow": false,
          "text": "0.0",
          "x": "ReadingTime",
          "xref": "x",
          "y": "WorkoutTime",
          "yref": "y"
         },
         {
          "font": {
           "color": "#FFFFFF"
          },
          "showarrow": false,
          "text": "0.03",
          "x": "PhoneTime",
          "xref": "x",
          "y": "WorkoutTime",
          "yref": "y"
         },
         {
          "font": {
           "color": "#FFFFFF"
          },
          "showarrow": false,
          "text": "0.04",
          "x": "WorkHours",
          "xref": "x",
          "y": "WorkoutTime",
          "yref": "y"
         },
         {
          "font": {
           "color": "#FFFFFF"
          },
          "showarrow": false,
          "text": "-0.05",
          "x": "CaffeineIntake",
          "xref": "x",
          "y": "WorkoutTime",
          "yref": "y"
         },
         {
          "font": {
           "color": "#FFFFFF"
          },
          "showarrow": false,
          "text": "0.01",
          "x": "RelaxationTime",
          "xref": "x",
          "y": "WorkoutTime",
          "yref": "y"
         },
         {
          "font": {
           "color": "#FFFFFF"
          },
          "showarrow": false,
          "text": "0.31",
          "x": "SleepTime",
          "xref": "x",
          "y": "WorkoutTime",
          "yref": "y"
         },
         {
          "font": {
           "color": "#FFFFFF"
          },
          "showarrow": false,
          "text": "0.0",
          "x": "WorkoutTime",
          "xref": "x",
          "y": "ReadingTime",
          "yref": "y"
         },
         {
          "font": {
           "color": "#FFFFFF"
          },
          "showarrow": false,
          "text": "1.0",
          "x": "ReadingTime",
          "xref": "x",
          "y": "ReadingTime",
          "yref": "y"
         },
         {
          "font": {
           "color": "#FFFFFF"
          },
          "showarrow": false,
          "text": "0.02",
          "x": "PhoneTime",
          "xref": "x",
          "y": "ReadingTime",
          "yref": "y"
         },
         {
          "font": {
           "color": "#FFFFFF"
          },
          "showarrow": false,
          "text": "-0.02",
          "x": "WorkHours",
          "xref": "x",
          "y": "ReadingTime",
          "yref": "y"
         },
         {
          "font": {
           "color": "#FFFFFF"
          },
          "showarrow": false,
          "text": "0.0",
          "x": "CaffeineIntake",
          "xref": "x",
          "y": "ReadingTime",
          "yref": "y"
         },
         {
          "font": {
           "color": "#FFFFFF"
          },
          "showarrow": false,
          "text": "0.03",
          "x": "RelaxationTime",
          "xref": "x",
          "y": "ReadingTime",
          "yref": "y"
         },
         {
          "font": {
           "color": "#FFFFFF"
          },
          "showarrow": false,
          "text": "0.13",
          "x": "SleepTime",
          "xref": "x",
          "y": "ReadingTime",
          "yref": "y"
         },
         {
          "font": {
           "color": "#FFFFFF"
          },
          "showarrow": false,
          "text": "0.03",
          "x": "WorkoutTime",
          "xref": "x",
          "y": "PhoneTime",
          "yref": "y"
         },
         {
          "font": {
           "color": "#FFFFFF"
          },
          "showarrow": false,
          "text": "0.02",
          "x": "ReadingTime",
          "xref": "x",
          "y": "PhoneTime",
          "yref": "y"
         },
         {
          "font": {
           "color": "#FFFFFF"
          },
          "showarrow": false,
          "text": "1.0",
          "x": "PhoneTime",
          "xref": "x",
          "y": "PhoneTime",
          "yref": "y"
         },
         {
          "font": {
           "color": "#FFFFFF"
          },
          "showarrow": false,
          "text": "0.02",
          "x": "WorkHours",
          "xref": "x",
          "y": "PhoneTime",
          "yref": "y"
         },
         {
          "font": {
           "color": "#FFFFFF"
          },
          "showarrow": false,
          "text": "0.01",
          "x": "CaffeineIntake",
          "xref": "x",
          "y": "PhoneTime",
          "yref": "y"
         },
         {
          "font": {
           "color": "#FFFFFF"
          },
          "showarrow": false,
          "text": "-0.04",
          "x": "RelaxationTime",
          "xref": "x",
          "y": "PhoneTime",
          "yref": "y"
         },
         {
          "font": {
           "color": "#FFFFFF"
          },
          "showarrow": false,
          "text": "-0.56",
          "x": "SleepTime",
          "xref": "x",
          "y": "PhoneTime",
          "yref": "y"
         },
         {
          "font": {
           "color": "#FFFFFF"
          },
          "showarrow": false,
          "text": "0.04",
          "x": "WorkoutTime",
          "xref": "x",
          "y": "WorkHours",
          "yref": "y"
         },
         {
          "font": {
           "color": "#FFFFFF"
          },
          "showarrow": false,
          "text": "-0.02",
          "x": "ReadingTime",
          "xref": "x",
          "y": "WorkHours",
          "yref": "y"
         },
         {
          "font": {
           "color": "#FFFFFF"
          },
          "showarrow": false,
          "text": "0.02",
          "x": "PhoneTime",
          "xref": "x",
          "y": "WorkHours",
          "yref": "y"
         },
         {
          "font": {
           "color": "#FFFFFF"
          },
          "showarrow": false,
          "text": "1.0",
          "x": "WorkHours",
          "xref": "x",
          "y": "WorkHours",
          "yref": "y"
         },
         {
          "font": {
           "color": "#FFFFFF"
          },
          "showarrow": false,
          "text": "-0.01",
          "x": "CaffeineIntake",
          "xref": "x",
          "y": "WorkHours",
          "yref": "y"
         },
         {
          "font": {
           "color": "#FFFFFF"
          },
          "showarrow": false,
          "text": "0.04",
          "x": "RelaxationTime",
          "xref": "x",
          "y": "WorkHours",
          "yref": "y"
         },
         {
          "font": {
           "color": "#FFFFFF"
          },
          "showarrow": false,
          "text": "-0.53",
          "x": "SleepTime",
          "xref": "x",
          "y": "WorkHours",
          "yref": "y"
         },
         {
          "font": {
           "color": "#FFFFFF"
          },
          "showarrow": false,
          "text": "-0.05",
          "x": "WorkoutTime",
          "xref": "x",
          "y": "CaffeineIntake",
          "yref": "y"
         },
         {
          "font": {
           "color": "#FFFFFF"
          },
          "showarrow": false,
          "text": "0.0",
          "x": "ReadingTime",
          "xref": "x",
          "y": "CaffeineIntake",
          "yref": "y"
         },
         {
          "font": {
           "color": "#FFFFFF"
          },
          "showarrow": false,
          "text": "0.01",
          "x": "PhoneTime",
          "xref": "x",
          "y": "CaffeineIntake",
          "yref": "y"
         },
         {
          "font": {
           "color": "#FFFFFF"
          },
          "showarrow": false,
          "text": "-0.01",
          "x": "WorkHours",
          "xref": "x",
          "y": "CaffeineIntake",
          "yref": "y"
         },
         {
          "font": {
           "color": "#FFFFFF"
          },
          "showarrow": false,
          "text": "1.0",
          "x": "CaffeineIntake",
          "xref": "x",
          "y": "CaffeineIntake",
          "yref": "y"
         },
         {
          "font": {
           "color": "#FFFFFF"
          },
          "showarrow": false,
          "text": "-0.04",
          "x": "RelaxationTime",
          "xref": "x",
          "y": "CaffeineIntake",
          "yref": "y"
         },
         {
          "font": {
           "color": "#FFFFFF"
          },
          "showarrow": false,
          "text": "-0.18",
          "x": "SleepTime",
          "xref": "x",
          "y": "CaffeineIntake",
          "yref": "y"
         },
         {
          "font": {
           "color": "#FFFFFF"
          },
          "showarrow": false,
          "text": "0.01",
          "x": "WorkoutTime",
          "xref": "x",
          "y": "RelaxationTime",
          "yref": "y"
         },
         {
          "font": {
           "color": "#FFFFFF"
          },
          "showarrow": false,
          "text": "0.03",
          "x": "ReadingTime",
          "xref": "x",
          "y": "RelaxationTime",
          "yref": "y"
         },
         {
          "font": {
           "color": "#FFFFFF"
          },
          "showarrow": false,
          "text": "-0.04",
          "x": "PhoneTime",
          "xref": "x",
          "y": "RelaxationTime",
          "yref": "y"
         },
         {
          "font": {
           "color": "#FFFFFF"
          },
          "showarrow": false,
          "text": "0.04",
          "x": "WorkHours",
          "xref": "x",
          "y": "RelaxationTime",
          "yref": "y"
         },
         {
          "font": {
           "color": "#FFFFFF"
          },
          "showarrow": false,
          "text": "-0.04",
          "x": "CaffeineIntake",
          "xref": "x",
          "y": "RelaxationTime",
          "yref": "y"
         },
         {
          "font": {
           "color": "#FFFFFF"
          },
          "showarrow": false,
          "text": "1.0",
          "x": "RelaxationTime",
          "xref": "x",
          "y": "RelaxationTime",
          "yref": "y"
         },
         {
          "font": {
           "color": "#FFFFFF"
          },
          "showarrow": false,
          "text": "0.19",
          "x": "SleepTime",
          "xref": "x",
          "y": "RelaxationTime",
          "yref": "y"
         },
         {
          "font": {
           "color": "#FFFFFF"
          },
          "showarrow": false,
          "text": "0.31",
          "x": "WorkoutTime",
          "xref": "x",
          "y": "SleepTime",
          "yref": "y"
         },
         {
          "font": {
           "color": "#FFFFFF"
          },
          "showarrow": false,
          "text": "0.13",
          "x": "ReadingTime",
          "xref": "x",
          "y": "SleepTime",
          "yref": "y"
         },
         {
          "font": {
           "color": "#FFFFFF"
          },
          "showarrow": false,
          "text": "-0.56",
          "x": "PhoneTime",
          "xref": "x",
          "y": "SleepTime",
          "yref": "y"
         },
         {
          "font": {
           "color": "#FFFFFF"
          },
          "showarrow": false,
          "text": "-0.53",
          "x": "WorkHours",
          "xref": "x",
          "y": "SleepTime",
          "yref": "y"
         },
         {
          "font": {
           "color": "#FFFFFF"
          },
          "showarrow": false,
          "text": "-0.18",
          "x": "CaffeineIntake",
          "xref": "x",
          "y": "SleepTime",
          "yref": "y"
         },
         {
          "font": {
           "color": "#FFFFFF"
          },
          "showarrow": false,
          "text": "0.19",
          "x": "RelaxationTime",
          "xref": "x",
          "y": "SleepTime",
          "yref": "y"
         },
         {
          "font": {
           "color": "#FFFFFF"
          },
          "showarrow": false,
          "text": "1.0",
          "x": "SleepTime",
          "xref": "x",
          "y": "SleepTime",
          "yref": "y"
         }
        ],
        "height": 400,
        "template": {
         "data": {
          "bar": [
           {
            "error_x": {
             "color": "#2a3f5f"
            },
            "error_y": {
             "color": "#2a3f5f"
            },
            "marker": {
             "line": {
              "color": "#E5ECF6",
              "width": 0.5
             }
            },
            "type": "bar"
           }
          ],
          "barpolar": [
           {
            "marker": {
             "line": {
              "color": "#E5ECF6",
              "width": 0.5
             }
            },
            "type": "barpolar"
           }
          ],
          "carpet": [
           {
            "aaxis": {
             "endlinecolor": "#2a3f5f",
             "gridcolor": "white",
             "linecolor": "white",
             "minorgridcolor": "white",
             "startlinecolor": "#2a3f5f"
            },
            "baxis": {
             "endlinecolor": "#2a3f5f",
             "gridcolor": "white",
             "linecolor": "white",
             "minorgridcolor": "white",
             "startlinecolor": "#2a3f5f"
            },
            "type": "carpet"
           }
          ],
          "choropleth": [
           {
            "colorbar": {
             "outlinewidth": 0,
             "ticks": ""
            },
            "type": "choropleth"
           }
          ],
          "contour": [
           {
            "colorbar": {
             "outlinewidth": 0,
             "ticks": ""
            },
            "colorscale": [
             [
              0,
              "#0d0887"
             ],
             [
              0.1111111111111111,
              "#46039f"
             ],
             [
              0.2222222222222222,
              "#7201a8"
             ],
             [
              0.3333333333333333,
              "#9c179e"
             ],
             [
              0.4444444444444444,
              "#bd3786"
             ],
             [
              0.5555555555555556,
              "#d8576b"
             ],
             [
              0.6666666666666666,
              "#ed7953"
             ],
             [
              0.7777777777777778,
              "#fb9f3a"
             ],
             [
              0.8888888888888888,
              "#fdca26"
             ],
             [
              1,
              "#f0f921"
             ]
            ],
            "type": "contour"
           }
          ],
          "contourcarpet": [
           {
            "colorbar": {
             "outlinewidth": 0,
             "ticks": ""
            },
            "type": "contourcarpet"
           }
          ],
          "heatmap": [
           {
            "colorbar": {
             "outlinewidth": 0,
             "ticks": ""
            },
            "colorscale": [
             [
              0,
              "#0d0887"
             ],
             [
              0.1111111111111111,
              "#46039f"
             ],
             [
              0.2222222222222222,
              "#7201a8"
             ],
             [
              0.3333333333333333,
              "#9c179e"
             ],
             [
              0.4444444444444444,
              "#bd3786"
             ],
             [
              0.5555555555555556,
              "#d8576b"
             ],
             [
              0.6666666666666666,
              "#ed7953"
             ],
             [
              0.7777777777777778,
              "#fb9f3a"
             ],
             [
              0.8888888888888888,
              "#fdca26"
             ],
             [
              1,
              "#f0f921"
             ]
            ],
            "type": "heatmap"
           }
          ],
          "heatmapgl": [
           {
            "colorbar": {
             "outlinewidth": 0,
             "ticks": ""
            },
            "colorscale": [
             [
              0,
              "#0d0887"
             ],
             [
              0.1111111111111111,
              "#46039f"
             ],
             [
              0.2222222222222222,
              "#7201a8"
             ],
             [
              0.3333333333333333,
              "#9c179e"
             ],
             [
              0.4444444444444444,
              "#bd3786"
             ],
             [
              0.5555555555555556,
              "#d8576b"
             ],
             [
              0.6666666666666666,
              "#ed7953"
             ],
             [
              0.7777777777777778,
              "#fb9f3a"
             ],
             [
              0.8888888888888888,
              "#fdca26"
             ],
             [
              1,
              "#f0f921"
             ]
            ],
            "type": "heatmapgl"
           }
          ],
          "histogram": [
           {
            "marker": {
             "colorbar": {
              "outlinewidth": 0,
              "ticks": ""
             }
            },
            "type": "histogram"
           }
          ],
          "histogram2d": [
           {
            "colorbar": {
             "outlinewidth": 0,
             "ticks": ""
            },
            "colorscale": [
             [
              0,
              "#0d0887"
             ],
             [
              0.1111111111111111,
              "#46039f"
             ],
             [
              0.2222222222222222,
              "#7201a8"
             ],
             [
              0.3333333333333333,
              "#9c179e"
             ],
             [
              0.4444444444444444,
              "#bd3786"
             ],
             [
              0.5555555555555556,
              "#d8576b"
             ],
             [
              0.6666666666666666,
              "#ed7953"
             ],
             [
              0.7777777777777778,
              "#fb9f3a"
             ],
             [
              0.8888888888888888,
              "#fdca26"
             ],
             [
              1,
              "#f0f921"
             ]
            ],
            "type": "histogram2d"
           }
          ],
          "histogram2dcontour": [
           {
            "colorbar": {
             "outlinewidth": 0,
             "ticks": ""
            },
            "colorscale": [
             [
              0,
              "#0d0887"
             ],
             [
              0.1111111111111111,
              "#46039f"
             ],
             [
              0.2222222222222222,
              "#7201a8"
             ],
             [
              0.3333333333333333,
              "#9c179e"
             ],
             [
              0.4444444444444444,
              "#bd3786"
             ],
             [
              0.5555555555555556,
              "#d8576b"
             ],
             [
              0.6666666666666666,
              "#ed7953"
             ],
             [
              0.7777777777777778,
              "#fb9f3a"
             ],
             [
              0.8888888888888888,
              "#fdca26"
             ],
             [
              1,
              "#f0f921"
             ]
            ],
            "type": "histogram2dcontour"
           }
          ],
          "mesh3d": [
           {
            "colorbar": {
             "outlinewidth": 0,
             "ticks": ""
            },
            "type": "mesh3d"
           }
          ],
          "parcoords": [
           {
            "line": {
             "colorbar": {
              "outlinewidth": 0,
              "ticks": ""
             }
            },
            "type": "parcoords"
           }
          ],
          "pie": [
           {
            "automargin": true,
            "type": "pie"
           }
          ],
          "scatter": [
           {
            "marker": {
             "colorbar": {
              "outlinewidth": 0,
              "ticks": ""
             }
            },
            "type": "scatter"
           }
          ],
          "scatter3d": [
           {
            "line": {
             "colorbar": {
              "outlinewidth": 0,
              "ticks": ""
             }
            },
            "marker": {
             "colorbar": {
              "outlinewidth": 0,
              "ticks": ""
             }
            },
            "type": "scatter3d"
           }
          ],
          "scattercarpet": [
           {
            "marker": {
             "colorbar": {
              "outlinewidth": 0,
              "ticks": ""
             }
            },
            "type": "scattercarpet"
           }
          ],
          "scattergeo": [
           {
            "marker": {
             "colorbar": {
              "outlinewidth": 0,
              "ticks": ""
             }
            },
            "type": "scattergeo"
           }
          ],
          "scattergl": [
           {
            "marker": {
             "colorbar": {
              "outlinewidth": 0,
              "ticks": ""
             }
            },
            "type": "scattergl"
           }
          ],
          "scattermapbox": [
           {
            "marker": {
             "colorbar": {
              "outlinewidth": 0,
              "ticks": ""
             }
            },
            "type": "scattermapbox"
           }
          ],
          "scatterpolar": [
           {
            "marker": {
             "colorbar": {
              "outlinewidth": 0,
              "ticks": ""
             }
            },
            "type": "scatterpolar"
           }
          ],
          "scatterpolargl": [
           {
            "marker": {
             "colorbar": {
              "outlinewidth": 0,
              "ticks": ""
             }
            },
            "type": "scatterpolargl"
           }
          ],
          "scatterternary": [
           {
            "marker": {
             "colorbar": {
              "outlinewidth": 0,
              "ticks": ""
             }
            },
            "type": "scatterternary"
           }
          ],
          "surface": [
           {
            "colorbar": {
             "outlinewidth": 0,
             "ticks": ""
            },
            "colorscale": [
             [
              0,
              "#0d0887"
             ],
             [
              0.1111111111111111,
              "#46039f"
             ],
             [
              0.2222222222222222,
              "#7201a8"
             ],
             [
              0.3333333333333333,
              "#9c179e"
             ],
             [
              0.4444444444444444,
              "#bd3786"
             ],
             [
              0.5555555555555556,
              "#d8576b"
             ],
             [
              0.6666666666666666,
              "#ed7953"
             ],
             [
              0.7777777777777778,
              "#fb9f3a"
             ],
             [
              0.8888888888888888,
              "#fdca26"
             ],
             [
              1,
              "#f0f921"
             ]
            ],
            "type": "surface"
           }
          ],
          "table": [
           {
            "cells": {
             "fill": {
              "color": "#EBF0F8"
             },
             "line": {
              "color": "white"
             }
            },
            "header": {
             "fill": {
              "color": "#C8D4E3"
             },
             "line": {
              "color": "white"
             }
            },
            "type": "table"
           }
          ]
         },
         "layout": {
          "annotationdefaults": {
           "arrowcolor": "#2a3f5f",
           "arrowhead": 0,
           "arrowwidth": 1
          },
          "autotypenumbers": "strict",
          "coloraxis": {
           "colorbar": {
            "outlinewidth": 0,
            "ticks": ""
           }
          },
          "colorscale": {
           "diverging": [
            [
             0,
             "#8e0152"
            ],
            [
             0.1,
             "#c51b7d"
            ],
            [
             0.2,
             "#de77ae"
            ],
            [
             0.3,
             "#f1b6da"
            ],
            [
             0.4,
             "#fde0ef"
            ],
            [
             0.5,
             "#f7f7f7"
            ],
            [
             0.6,
             "#e6f5d0"
            ],
            [
             0.7,
             "#b8e186"
            ],
            [
             0.8,
             "#7fbc41"
            ],
            [
             0.9,
             "#4d9221"
            ],
            [
             1,
             "#276419"
            ]
           ],
           "sequential": [
            [
             0,
             "#0d0887"
            ],
            [
             0.1111111111111111,
             "#46039f"
            ],
            [
             0.2222222222222222,
             "#7201a8"
            ],
            [
             0.3333333333333333,
             "#9c179e"
            ],
            [
             0.4444444444444444,
             "#bd3786"
            ],
            [
             0.5555555555555556,
             "#d8576b"
            ],
            [
             0.6666666666666666,
             "#ed7953"
            ],
            [
             0.7777777777777778,
             "#fb9f3a"
            ],
            [
             0.8888888888888888,
             "#fdca26"
            ],
            [
             1,
             "#f0f921"
            ]
           ],
           "sequentialminus": [
            [
             0,
             "#0d0887"
            ],
            [
             0.1111111111111111,
             "#46039f"
            ],
            [
             0.2222222222222222,
             "#7201a8"
            ],
            [
             0.3333333333333333,
             "#9c179e"
            ],
            [
             0.4444444444444444,
             "#bd3786"
            ],
            [
             0.5555555555555556,
             "#d8576b"
            ],
            [
             0.6666666666666666,
             "#ed7953"
            ],
            [
             0.7777777777777778,
             "#fb9f3a"
            ],
            [
             0.8888888888888888,
             "#fdca26"
            ],
            [
             1,
             "#f0f921"
            ]
           ]
          },
          "colorway": [
           "#636efa",
           "#EF553B",
           "#00cc96",
           "#ab63fa",
           "#FFA15A",
           "#19d3f3",
           "#FF6692",
           "#B6E880",
           "#FF97FF",
           "#FECB52"
          ],
          "font": {
           "color": "#2a3f5f"
          },
          "geo": {
           "bgcolor": "white",
           "lakecolor": "white",
           "landcolor": "#E5ECF6",
           "showlakes": true,
           "showland": true,
           "subunitcolor": "white"
          },
          "hoverlabel": {
           "align": "left"
          },
          "hovermode": "closest",
          "mapbox": {
           "style": "light"
          },
          "paper_bgcolor": "white",
          "plot_bgcolor": "#E5ECF6",
          "polar": {
           "angularaxis": {
            "gridcolor": "white",
            "linecolor": "white",
            "ticks": ""
           },
           "bgcolor": "#E5ECF6",
           "radialaxis": {
            "gridcolor": "white",
            "linecolor": "white",
            "ticks": ""
           }
          },
          "scene": {
           "xaxis": {
            "backgroundcolor": "#E5ECF6",
            "gridcolor": "white",
            "gridwidth": 2,
            "linecolor": "white",
            "showbackground": true,
            "ticks": "",
            "zerolinecolor": "white"
           },
           "yaxis": {
            "backgroundcolor": "#E5ECF6",
            "gridcolor": "white",
            "gridwidth": 2,
            "linecolor": "white",
            "showbackground": true,
            "ticks": "",
            "zerolinecolor": "white"
           },
           "zaxis": {
            "backgroundcolor": "#E5ECF6",
            "gridcolor": "white",
            "gridwidth": 2,
            "linecolor": "white",
            "showbackground": true,
            "ticks": "",
            "zerolinecolor": "white"
           }
          },
          "shapedefaults": {
           "line": {
            "color": "#2a3f5f"
           }
          },
          "ternary": {
           "aaxis": {
            "gridcolor": "white",
            "linecolor": "white",
            "ticks": ""
           },
           "baxis": {
            "gridcolor": "white",
            "linecolor": "white",
            "ticks": ""
           },
           "bgcolor": "#E5ECF6",
           "caxis": {
            "gridcolor": "white",
            "linecolor": "white",
            "ticks": ""
           }
          },
          "title": {
           "x": 0.05
          },
          "xaxis": {
           "automargin": true,
           "gridcolor": "white",
           "linecolor": "white",
           "ticks": "",
           "title": {
            "standoff": 15
           },
           "zerolinecolor": "white",
           "zerolinewidth": 2
          },
          "yaxis": {
           "automargin": true,
           "gridcolor": "white",
           "linecolor": "white",
           "ticks": "",
           "title": {
            "standoff": 15
           },
           "zerolinecolor": "white",
           "zerolinewidth": 2
          }
         }
        },
        "title": {
         "text": "Correlation Matrix (SleepTime vs Features)"
        },
        "width": 600,
        "xaxis": {
         "dtick": 1,
         "gridcolor": "rgb(0, 0, 0)",
         "side": "bottom",
         "ticks": ""
        },
        "yaxis": {
         "dtick": 1,
         "ticks": "",
         "ticksuffix": "  "
        }
       }
      }
     },
     "metadata": {},
     "output_type": "display_data"
    }
   ],
   "source": [
    "# Compute interactive correlation matrix\n",
    "corr_matrix = df_filtered.corr().round(2)\n",
    "cols = corr_matrix.columns.tolist()\n",
    "\n",
    "# Here we transpose the matrix\n",
    "fig = ff.create_annotated_heatmap(\n",
    "    z=corr_matrix.values.T,    \n",
    "    x=cols,                  \n",
    "    y=cols,\n",
    "    colorscale='RdBu',\n",
    "    showscale=True,\n",
    "    zmid=0\n",
    ")\n",
    "\n",
    "fig.update_layout(\n",
    "    title=\"Correlation Matrix (SleepTime vs Features)\",\n",
    "    width=600,\n",
    "    height=400,\n",
    "    xaxis=dict(side='bottom')  \n",
    ")\n",
    "\n",
    "fig.show()\n"
   ]
  },
  {
   "cell_type": "markdown",
   "id": "4999e022",
   "metadata": {},
   "source": [
    "### What we learned from the data\n",
    "\n",
    "Before diving into model building, we explored the data to see what daily habits might be linked to sleep duration. Here's what we found:\n",
    "\n",
    "- The dataset includes 2,000 synthetic records of daily lifestyle habits and their effect on sleep. After removing a few unrealistic outliers (like 20 hours of sleep), we ended up with 1,955 clean entries.\n",
    "- All features are numerical and evenly spread - no missing values.\n",
    "- Most people in the dataset \"sleep\" around 5 hours - not ideal, but that's what the data says! Extreme outliers (>12 hours or <1 hour) were removed to improve model stability.\n",
    "- Correlation analysis revealed the following:\n",
    "  - **More time on your phone** or **more work hours** strongly relate to sleeping less (negative correlation -0.56 and -0.53).\n",
    "  - **WorkoutTime** has the highest positive correlation (+0.31).\n",
    "  - Other habits like reading or relaxing showed only minor effects on sleep.\n",
    "\n",
    "Overall, the dataset appears clean, balanced, and ready for regression modeling.\n",
    "\n"
   ]
  },
  {
   "cell_type": "markdown",
   "id": "3458118e",
   "metadata": {},
   "source": []
  }
 ],
 "metadata": {
  "kernelspec": {
   "display_name": "base",
   "language": "python",
   "name": "python3"
  },
  "language_info": {
   "codemirror_mode": {
    "name": "ipython",
    "version": 3
   },
   "file_extension": ".py",
   "mimetype": "text/x-python",
   "name": "python",
   "nbconvert_exporter": "python",
   "pygments_lexer": "ipython3",
   "version": "3.8.5"
  }
 },
 "nbformat": 4,
 "nbformat_minor": 5
}
